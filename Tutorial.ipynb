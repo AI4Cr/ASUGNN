{
 "cells": [
  {
   "cell_type": "markdown",
   "id": "2a5dcb6f-c0c9-440d-8c13-c2193689c2fd",
   "metadata": {},
   "source": [
    "\n",
    "# Tutorial\n",
    "\n",
    "- **Training**\n",
    "- **Inference**\n",
    "\n"
   ]
  },
  {
   "cell_type": "markdown",
   "id": "3658baaf-72a7-485b-8cf6-4e24f3959a68",
   "metadata": {},
   "source": [
    "## Training"
   ]
  },
  {
   "cell_type": "code",
   "execution_count": null,
   "id": "c1b4b752-3f29-48d0-a62a-0fdbe176dada",
   "metadata": {},
   "outputs": [],
   "source": []
  },
  {
   "cell_type": "markdown",
   "id": "649f3624-8f3c-4d38-a88b-0f95f7bc9274",
   "metadata": {},
   "source": [
    "\n",
    "\n",
    "## Inference\n",
    "\n",
    "Refer to the [ASUGNN GitHub Repository](https://github.com/AI4Cr/ASUGNN/tree/main/src).\n",
    "\n",
    "1. **Download the Pretrained Model**:  \n",
    "   You can download the pretrained model from [ASUGNN on Hugging Face](https://huggingface.co/caobin/ASUGNN).\n",
    "\n",
    "2. **Set Up the Environment**:  \n",
    "   Create a new Python environment with version `Python==3.9.19` and name it `asugnn`.\n",
    "\n",
    "3. **Data Parsing**:  \n",
    "   To predict formation energies, you need to parse your data using `data_processing.py` in the `./src` directory.\n",
    "\n",
    "   - `--database_path`: Path to the crystal data saved in the database.\n",
    "   - `--new_database_path`: Path where the parsed graph data will be saved.\n",
    "\n",
    "   Example command:\n",
    "\n",
    "   ```bash\n",
    "   python data_processing.py --database_path ./data/structures.db --new_database_path ./temp/filter_self_struc_cif.db\n",
    "   ```\n",
    "\n",
    "4. **Inference**:  \n",
    "   Run predictions using `predict.py` in the `./src` directory.\n",
    "\n",
    "   - `--db_path`: Path to the parsed database.\n",
    "   - `--model_path`: Path to the saved model.\n",
    "\n",
    "   Example command:\n",
    "\n",
    "   ```bash\n",
    "   python predict.py --db_path /home/cb/cb_crystal/test_ASUnet/filter_self_struc_cif.db --model_path ASUGNN.pt\n",
    "   ```\n",
    "\n"
   ]
  },
  {
   "cell_type": "code",
   "execution_count": null,
   "id": "6a8dedca-a6e7-4049-9b7a-e3ce0f6fc7a1",
   "metadata": {},
   "outputs": [],
   "source": []
  }
 ],
 "metadata": {
  "kernelspec": {
   "display_name": "Python 3 (ipykernel)",
   "language": "python",
   "name": "python3"
  },
  "language_info": {
   "codemirror_mode": {
    "name": "ipython",
    "version": 3
   },
   "file_extension": ".py",
   "mimetype": "text/x-python",
   "name": "python",
   "nbconvert_exporter": "python",
   "pygments_lexer": "ipython3",
   "version": "3.11.7"
  }
 },
 "nbformat": 4,
 "nbformat_minor": 5
}
